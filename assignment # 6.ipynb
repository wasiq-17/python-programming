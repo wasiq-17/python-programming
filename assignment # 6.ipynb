{
 "cells": [
  {
   "cell_type": "markdown",
   "metadata": {},
   "source": [
    "Q1) what is object oriented programming?\n",
    "\n",
    "ANS)Object oriented programming is a programming approach which modularizes program by wrapping data and functions into a single unit that can be used as templates for duplicating such modules when needed.\n",
    "\n",
    "Q2)List down the Benefits of OOP?\n",
    "\n",
    "ANS) (1) Through inheritance, we can eliminate redundant code and extend the use of existing classes.\n",
    "     (2) We can built programs from standard working modules that communicate with one another rather than, having to start    writing the code from scratch. This leads to saving of development time and higher productivity.\n",
    "     (3) The principle of data hiding helps the programmers to built secure program that can’t be invaded by code in other parts  of the program.\n",
    "     (4) It is possible to have multiple objects to coexist without any interference.\n",
    "     (5) Software complexity can be easily managed.\n",
    "     \n",
    "Q3) Differentiate between function and method?\n",
    "\n",
    "ANS)Functions :\n",
    "\n",
    "Function is block of code that is also called by its name. (independent)\n",
    "The function can have different parameters or may not have any at all. If any data (parameters) are passed, they are passed explicitly.\n",
    "It may or may not return any data.\n",
    "Function does not deal with Class and its instance concept.\n",
    "\n",
    "Python Method:\n",
    "\n",
    "Method is called by its name, but it is associated to an object (dependent).\n",
    "A method is implicitly passed the object on which it is invoked.\n",
    "It may or may not return any data.\n",
    "A method can operate on the data (instance variables) that is contained by the corresponding class\n",
    "\n",
    "Q4) Define the following terms:\n",
    "1. Class\n",
    "2. Object\n",
    "3. Attribute\n",
    "4. Behavior\n",
    "\n",
    "ANS)CLASS: \n",
    "\n",
    " A class is written by a programmer in a defined structure to create an object (computer science) in an object oriented programming language. It defines a set of properties and methods that are common to all objects of one type.\n",
    " \n",
    " OBJECT:\n",
    " \n",
    " In object-oriented programming (OOP), objects are the things you think about first in designing a program and they are also the units of code that are eventually derived from the process\n",
    " \n",
    " ATTRIBUTE:\n",
    " \n",
    "  an attribute is a specification that defines a property of an object, element, or file. It may also refer to or set the specific value for a given instance of such. For clarity, attributes should more correctly be considered metadata.\n",
    "  \n",
    "  BEHAVIOR:\n",
    "  \n",
    "   A class's behavior determines how an instance of that class operates; for example, how it will \"react\" if asked to do something by another class or object or if its internal state changes. Behavior is the only way objects can do anything to themselves or have anything done to them."
   ]
  },
  {
   "cell_type": "code",
   "execution_count": null,
   "metadata": {},
   "outputs": [],
   "source": []
  }
 ],
 "metadata": {
  "kernelspec": {
   "display_name": "Python 3",
   "language": "python",
   "name": "python3"
  },
  "language_info": {
   "codemirror_mode": {
    "name": "ipython",
    "version": 3
   },
   "file_extension": ".py",
   "mimetype": "text/x-python",
   "name": "python",
   "nbconvert_exporter": "python",
   "pygments_lexer": "ipython3",
   "version": "3.7.4"
  }
 },
 "nbformat": 4,
 "nbformat_minor": 2
}
