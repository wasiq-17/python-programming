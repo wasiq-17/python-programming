{
 "cells": [
  {
   "cell_type": "code",
   "execution_count": 38,
   "metadata": {},
   "outputs": [
    {
     "name": "stdout",
     "output_type": "stream",
     "text": [
      "Name: Civic\n",
      "Company: Honda\n",
      "Model: 2019\n",
      "Transmission: Automatic\n",
      "Engine Capacity: 1300 cc\n",
      "\n",
      "Name: Mehran\n",
      "Company: Suzuki\n",
      "Model: 2018\n",
      "Transmission: Manual\n",
      "Engine Capacity: 800 cc\n",
      "\n",
      "Name: A3\n",
      "Company: Audi\n",
      "Model: 2013\n",
      "Transmission: Automatic\n",
      "Engine Capacity: 1968 cc\n",
      "\n",
      "Name: Accord\n",
      "Company: Honda\n",
      "Model: 2019\n",
      "Transmission: Automatic\n",
      "Engine Capacity: 1993 cc\n",
      "\n",
      "Name: Corolla\n",
      "Company: Toyota\n",
      "Model: 2019\n",
      "Transmission: Automatic/Manual\n",
      "Engine Capacity: 1300 cc\n",
      "\n",
      "Car count: 5\n"
     ]
    }
   ],
   "source": [
    "class Car:\n",
    "    carcount = 0\n",
    "    \n",
    "    def __init__(self, name, company, model , transmission, engine_capacity):\n",
    "        self.name = name\n",
    "        self.company = company\n",
    "        self.model = model\n",
    "        self.transmission = transmission\n",
    "        self.engine_capacity = engine_capacity\n",
    "        Car.carcount += 1\n",
    "        \n",
    "    def displayCar(self):\n",
    "        print(\"Name: \" + self.name + \"\\nCompany: \" + self.company + \"\\nModel: \" + self.model + \"\\nTransmission: \" + self.transmission + \"\\nEngine Capacity: \" + self.engine_capacity)\n",
    "        print(\"\")\n",
    "    def displayCount(self):\n",
    "        print(\"Car count: \" + str(Car.carcount))\n",
    "\n",
    "car1 = Car(\"Civic\", \"Honda\", \"2019\", \"Automatic\", \"1300 cc\")\n",
    "car2 = Car(\"Mehran\", \"Suzuki\", \"2018\", \"Manual\", \"800 cc\")\n",
    "car3 = Car(\"A3\", \"Audi\", \"2013\", \"Automatic\", \"1968 cc\")\n",
    "car4 = Car(\"Accord\", \"Honda\", \"2019\", \"Automatic\", \"1993 cc\")\n",
    "car5 = Car(\"Corolla\", \"Toyota\", \"2019\", \"Automatic/Manual\", \"1300 cc\")\n",
    "car1.displayCar()\n",
    "car2.displayCar()\n",
    "car3.displayCar()\n",
    "car4.displayCar()\n",
    "car5.displayCar()\n",
    "car1.displayCount()"
   ]
  }
 ],
 "metadata": {
  "kernelspec": {
   "display_name": "Python 3",
   "language": "python",
   "name": "python3"
  },
  "language_info": {
   "codemirror_mode": {
    "name": "ipython",
    "version": 3
   },
   "file_extension": ".py",
   "mimetype": "text/x-python",
   "name": "python",
   "nbconvert_exporter": "python",
   "pygments_lexer": "ipython3",
   "version": "3.7.4"
  }
 },
 "nbformat": 4,
 "nbformat_minor": 2
}
