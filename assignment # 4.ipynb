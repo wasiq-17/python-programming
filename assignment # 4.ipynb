{
 "cells": [
  {
   "cell_type": "code",
   "execution_count": 1,
   "metadata": {},
   "outputs": [
    {
     "name": "stdout",
     "output_type": "stream",
     "text": [
      "{'first_name': 'Basit', 'last_name': 'Aziz', 'age': 22, 'city': 'Karachi'}\n",
      "{'first_name': 'Basit', 'last_name': 'Aziz', 'age': 22, 'city': 'Karachi', 'qualification': 'Intermediate'}\n",
      "{'first_name': 'Basit', 'last_name': 'Aziz', 'age': 22, 'city': 'Karachi'}\n"
     ]
    }
   ],
   "source": [
    "person_information = {\"first_name\": \"Basit\", \"last_name\": \"Aziz\", \"age\": 22, \"city\": \"Karachi\"}\n",
    "print(person_information)\n",
    "person_information[\"qualification\"] = \"Intermediate\"\n",
    "print(person_information)\n",
    "del person_information[\"qualification\"]\n",
    "print(person_information)"
   ]
  },
  {
   "cell_type": "code",
   "execution_count": 2,
   "metadata": {},
   "outputs": [
    {
     "name": "stdout",
     "output_type": "stream",
     "text": [
      "('karachi', {'country': 'pakistan', 'population': '15,741,000', 'fact': 'The business hub of Pakistan'})\n",
      "('Intanbul', {'country': 'Turkey', 'population': '14,968,000', 'fact': 'European experience with an Islamic grace'})\n",
      "('Bangkok', {'country': 'Thailand', 'population': '9,714,640', 'fact': 'Venice of the East'})\n"
     ]
    }
   ],
   "source": [
    "cities = {\"karachi\" : {\"country\": \"pakistan\", \"population\": \"15,741,000\", \"fact\": \"The business hub of Pakistan\"},\n",
    "          \"Intanbul\" : {\"country\": \"Turkey\", \"population\": \"14,968,000\", \"fact\": \"European experience with an Islamic grace\"},\n",
    "          \"Bangkok\" : {\"country\": \"Thailand\", \"population\": \"9,714,640\", \"fact\": \"Venice of the East\"}\n",
    "         }\n",
    "for city_information in cities.items():\n",
    "    print(city_information)"
   ]
  },
  {
   "cell_type": "code",
   "execution_count": 6,
   "metadata": {},
   "outputs": [
    {
     "name": "stdout",
     "output_type": "stream",
     "text": [
      "Enter Age:0 to Quit\n",
      "Enter Age: 4\n",
      "Your Ticket is of $10\n",
      "Enter Age: 10\n",
      "Your Ticket is of $10\n",
      "Enter Age: 15\n",
      "Your Ticket is of $15\n",
      "Enter Age: 30\n",
      "Your Ticket is of $15\n",
      "Enter Age: 60\n",
      "Your Ticket is of $15\n",
      "Enter Age: 2\n",
      "Your Ticket is Free\n",
      "Enter Age: 5\n",
      "Your Ticket is of $10\n",
      "Enter Age: 8\n",
      "Your Ticket is of $10\n",
      "Enter Age: 12\n",
      "Your Ticket is of $10\n",
      "Enter Age: 0\n",
      "Thanks\n"
     ]
    }
   ],
   "source": [
    "print(\"Enter Age:0 to Quit\")\n",
    "age = int(input(\"Enter Age: \"))\n",
    "while age != 0:\n",
    "    if age < 3:\n",
    "        print(\"Your Ticket is Free\")\n",
    "    elif age >= 3 and age <= 12:\n",
    "        print(\"Your Ticket is of $10\")\n",
    "    else:\n",
    "        print(\"Your Ticket is of $15\")\n",
    "    age = int(input(\"Enter Age: \"))\n",
    "else:\n",
    "    print(\"Thanks\")"
   ]
  },
  {
   "cell_type": "code",
   "execution_count": 7,
   "metadata": {},
   "outputs": [
    {
     "name": "stdout",
     "output_type": "stream",
     "text": [
      "Enter Book Title: Alice\n",
      "One of my favourite books is Alice in Wonderland\n"
     ]
    }
   ],
   "source": [
    "def favourite_book(book_title):\n",
    "    print(\"One of my favourite books is \" + book_title + \" in Wonderland\")\n",
    "book_title = input(\"Enter Book Title: \")\n",
    "favourite_book(book_title)"
   ]
  },
  {
   "cell_type": "code",
   "execution_count": 9,
   "metadata": {},
   "outputs": [
    {
     "name": "stdout",
     "output_type": "stream",
     "text": [
      "Hint Number is in between 21-30\n",
      "Enter number: 23\n",
      "Try Again\n",
      "Enter number: 25\n",
      "Try Again\n",
      "Enter number: 27\n",
      "Try Again\n",
      "Thanks For Playing\n",
      "We Hope You Enjoyed It\n"
     ]
    }
   ],
   "source": [
    "import random\n",
    "a=random.randint(1,30)\n",
    "def random(a):\n",
    "    if a >= 0 and a <= 10:\n",
    "        print(\"Hint: Number is in between 0-10\")\n",
    "    elif a >= 11 and a <= 20:\n",
    "        print(\"Hint: Number is in between 11-20\")\n",
    "    else:\n",
    "        print(\"Hint Number is in between 21-30\")\n",
    "def guess(a):\n",
    "    for i in range (0,3):\n",
    "        value = int(input(\"Enter number: \"))\n",
    "        if value == a:\n",
    "            print(\"Congrats your guess is Perfect\")\n",
    "            break\n",
    "        else:\n",
    "            print(\"Try Again\")\n",
    "random(a)\n",
    "guess(a)\n",
    "print(\"Thanks For Playing\")\n",
    "print(\"We Hope You Enjoyed It\")    "
   ]
  }
 ],
 "metadata": {
  "kernelspec": {
   "display_name": "Python 3",
   "language": "python",
   "name": "python3"
  },
  "language_info": {
   "codemirror_mode": {
    "name": "ipython",
    "version": 3
   },
   "file_extension": ".py",
   "mimetype": "text/x-python",
   "name": "python",
   "nbconvert_exporter": "python",
   "pygments_lexer": "ipython3",
   "version": "3.7.4"
  }
 },
 "nbformat": 4,
 "nbformat_minor": 2
}
