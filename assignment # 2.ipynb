{
 "cells": [
  {
   "cell_type": "code",
   "execution_count": 3,
   "metadata": {},
   "outputs": [
    {
     "name": "stdout",
     "output_type": "stream",
     "text": [
      "Enter marks of the first subject: 50\n",
      "Enter marks of the second subject: 50\n",
      "Enter marks of the third subject: 50\n",
      "Enter marks of the fourth subject: 50\n",
      "Enter marks of the fifth subject: 50\n",
      "your total marks is 250 out of 500\n",
      "your Grade: F\n"
     ]
    }
   ],
   "source": [
    "sub1=int(input(\"Enter marks of the first subject: \"))\n",
    "sub2=int(input(\"Enter marks of the second subject: \"))\n",
    "sub3=int(input(\"Enter marks of the third subject: \"))\n",
    "sub4=int(input(\"Enter marks of the fourth subject: \"))\n",
    "sub5=int(input(\"Enter marks of the fifth subject: \"))\n",
    "\n",
    "total= sub1+sub2+sub3+sub4+sub4\n",
    "print(\"your total marks is\",total,\"out of 500\")\n",
    "avg=(total)/5\n",
    "if avg>=90 :\n",
    "\n",
    "    print(\"your Grade: A\")\n",
    "   \n",
    "elif avg>=80 and avg<90 :\n",
    " \n",
    "    print(\"your Grade: B\")\n",
    "\n",
    "elif avg>=70 and avg<80:\n",
    "   \n",
    "    print(\"your Grade: C\")\n",
    "       \n",
    "elif avg>=60 and avg<70:\n",
    " \n",
    "    print(\"your Grade: D\")\n",
    "\n",
    "\n",
    "else:\n",
    "    print(\"your Grade: F\")"
   ]
  },
  {
   "cell_type": "code",
   "execution_count": 11,
   "metadata": {},
   "outputs": [
    {
     "name": "stdout",
     "output_type": "stream",
     "text": [
      "ENTER ANY NUMBER : 44\n",
      "Given number is EVEN\n"
     ]
    }
   ],
   "source": [
    "num=int(input(\"ENTER ANY NUMBER : \"))\n",
    "if (num % 2) == 0:\n",
    "    print(\"Given number is EVEN\")\n",
    "else:\n",
    "    print(\"Given number is ODD\")"
   ]
  },
  {
   "cell_type": "code",
   "execution_count": 13,
   "metadata": {},
   "outputs": [
    {
     "name": "stdout",
     "output_type": "stream",
     "text": [
      "Lenght of given list is 9\n"
     ]
    }
   ],
   "source": [
    "values=[1,3,2,4,5,5,6,7,4]\n",
    "lenght=len(values)\n",
    "print(\"Lenght of given list is\",lenght)"
   ]
  },
  {
   "cell_type": "code",
   "execution_count": 14,
   "metadata": {},
   "outputs": [
    {
     "name": "stdout",
     "output_type": "stream",
     "text": [
      "37\n"
     ]
    }
   ],
   "source": [
    "values=[1,3,2,4,5,5,6,7,4]\n",
    "total=sum(values)\n",
    "print(\"Total sum is \",total)"
   ]
  },
  {
   "cell_type": "code",
   "execution_count": 16,
   "metadata": {},
   "outputs": [
    {
     "name": "stdout",
     "output_type": "stream",
     "text": [
      "Largest number is  7\n"
     ]
    }
   ],
   "source": [
    "values=[1,3,2,4,5,5,6,7,4]\n",
    "largest=max(values)\n",
    "print(\"Largest number is \",largest)"
   ]
  },
  {
   "cell_type": "code",
   "execution_count": 22,
   "metadata": {},
   "outputs": [
    {
     "name": "stdout",
     "output_type": "stream",
     "text": [
      "4\n"
     ]
    }
   ],
   "source": [
    "a = [1, 1, 2, 3, 5, 8, 13, 21, 34, 55, 89]\n",
    "count=0\n",
    "for i in a:\n",
    "    if i<5:\n",
    "        count=count+1\n",
    "\n",
    "print(count)       \n"
   ]
  },
  {
   "cell_type": "code",
   "execution_count": null,
   "metadata": {},
   "outputs": [],
   "source": []
  }
 ],
 "metadata": {
  "kernelspec": {
   "display_name": "Python 3",
   "language": "python",
   "name": "python3"
  },
  "language_info": {
   "codemirror_mode": {
    "name": "ipython",
    "version": 3
   },
   "file_extension": ".py",
   "mimetype": "text/x-python",
   "name": "python",
   "nbconvert_exporter": "python",
   "pygments_lexer": "ipython3",
   "version": "3.7.4"
  }
 },
 "nbformat": 4,
 "nbformat_minor": 2
}
