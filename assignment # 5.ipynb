{
 "cells": [
  {
   "cell_type": "code",
   "execution_count": 4,
   "metadata": {},
   "outputs": [
    {
     "name": "stdout",
     "output_type": "stream",
     "text": [
      "enter number to fnd factorial : 5\n",
      "120\n"
     ]
    }
   ],
   "source": [
    "def factorial(num):\n",
    "    nxt=num-1\n",
    "    while nxt != 0:\n",
    "        num=num*nxt\n",
    "        nxt=nxt-1\n",
    "    return num\n",
    "num=int(input(\"enter number to fnd factorial : \"))\n",
    "fac=factorial(num)\n",
    "print(fac)\n",
    "\n",
    "    \n"
   ]
  },
  {
   "cell_type": "code",
   "execution_count": 11,
   "metadata": {},
   "outputs": [
    {
     "name": "stdout",
     "output_type": "stream",
     "text": [
      "enter any stringString\n",
      "Upper cases are :  1 , lower cases are :  5\n"
     ]
    }
   ],
   "source": [
    "def upper_case(value):\n",
    "    upper_cases=0\n",
    "    lower_cases=0\n",
    "    for a in value:\n",
    "        if (a.isupper()) == True:\n",
    "            upper_cases+=1\n",
    "        elif (a.islower())==True:\n",
    "            lower_cases+=1\n",
    "    print(\"Upper cases are : \",upper_cases ,\", lower cases are : \", lower_cases)\n",
    "        \n",
    "   \n",
    "value=input(\"enter any string\")\n",
    "upper_case(value)\n"
   ]
  },
  {
   "cell_type": "code",
   "execution_count": 13,
   "metadata": {},
   "outputs": [
    {
     "name": "stdout",
     "output_type": "stream",
     "text": [
      "2\n",
      "2\n",
      "4\n",
      "6\n",
      "8\n"
     ]
    }
   ],
   "source": [
    "def even(list):\n",
    "    print(\"Even number in the list are :: \")\n",
    "    for num in list:\n",
    "        if num%2==0:\n",
    "            print(num)\n",
    "            \n",
    "list=[1,2,2,3,4,5,5,6,7,8]\n",
    "even(list)"
   ]
  },
  {
   "cell_type": "code",
   "execution_count": 22,
   "metadata": {},
   "outputs": [
    {
     "name": "stdout",
     "output_type": "stream",
     "text": [
      "the string is palindrome\n"
     ]
    }
   ],
   "source": [
    "def palindrome(string):\n",
    "    reverse=''.join(reversed(string))\n",
    "    if string == reverse:\n",
    "        print(\"the string is palindrome\")\n",
    "    else:\n",
    "        print(\"not in palindrome\")\n",
    "string=\"dad\"\n",
    "palindrome(string)\n"
   ]
  },
  {
   "cell_type": "code",
   "execution_count": 28,
   "metadata": {},
   "outputs": [
    {
     "name": "stdout",
     "output_type": "stream",
     "text": [
      "11 is a prime number\n"
     ]
    }
   ],
   "source": [
    "def prime(num):\n",
    "    if num > 1:\n",
    "        for i in range(2,num):\n",
    "            if (num % i) == 0:\n",
    "                print(num,\"is not a prime number\")\n",
    "                print(i,\"*\",num//i,\"=\",num)\n",
    "                break\n",
    "        else:\n",
    "            print(num,\"is a prime number\")\n",
    "num=11\n",
    "prime(num)"
   ]
  },
  {
   "cell_type": "code",
   "execution_count": 30,
   "metadata": {},
   "outputs": [
    {
     "name": "stdout",
     "output_type": "stream",
     "text": [
      "watch\n",
      "tshirt\n",
      "shoes\n"
     ]
    }
   ],
   "source": [
    "def customer_list(*nitems):\n",
    "    for items in nitems:\n",
    "        print(items)\n",
    "\n",
    "customer_list(\"watch\",\"tshirt\",\"shoes\")"
   ]
  },
  {
   "cell_type": "code",
   "execution_count": null,
   "metadata": {},
   "outputs": [],
   "source": []
  }
 ],
 "metadata": {
  "kernelspec": {
   "display_name": "Python 3",
   "language": "python",
   "name": "python3"
  },
  "language_info": {
   "codemirror_mode": {
    "name": "ipython",
    "version": 3
   },
   "file_extension": ".py",
   "mimetype": "text/x-python",
   "name": "python",
   "nbconvert_exporter": "python",
   "pygments_lexer": "ipython3",
   "version": "3.7.4"
  }
 },
 "nbformat": 4,
 "nbformat_minor": 2
}
