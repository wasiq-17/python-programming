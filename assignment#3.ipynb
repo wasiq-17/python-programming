{
 "cells": [
  {
   "cell_type": "code",
   "execution_count": 2,
   "metadata": {
    "scrolled": true
   },
   "outputs": [
    {
     "name": "stdout",
     "output_type": "stream",
     "text": [
      "Enter 1:add , 2:subtract , 3:multiply , 4:divide ,5:power 5\n",
      "enter 2 numbers :\n",
      "enter first number : 3\n",
      "enter second number : 3\n",
      "27\n"
     ]
    }
   ],
   "source": [
    "choice=int(input(\"Enter 1:add , 2:subtract , 3:multiply , 4:divide ,5:power \"))\n",
    "print(\"Enter 2 numbers \")\n",
    "num1=int(input(\"Enter first number : \"))\n",
    "num2=int(input(\"Enter second number : \"))\n",
    "if choice==1 :\n",
    "    print(num1+num2)\n",
    "elif choice==2:\n",
    "    print(num1-num2)\n",
    "\n",
    "elif choice==3:\n",
    "    print(num1*num2)\n",
    "\n",
    "elif choice==4:\n",
    "    print(num1/num2)\n",
    "\n",
    "elif choice==5:\n",
    "    print(pow(num1,num2))\n",
    "else :\n",
    "    print(\"wrong input\")\n",
    "    "
   ]
  },
  {
   "cell_type": "code",
   "execution_count": 4,
   "metadata": {
    "scrolled": true
   },
   "outputs": [
    {
     "name": "stdout",
     "output_type": "stream",
     "text": [
      "There were 3 integer values in list...\n"
     ]
    }
   ],
   "source": [
    "li=[1,2,\"abc\",\"123\",4]\n",
    "count=0\n",
    "for x in li:\n",
    "    if isinstance(x,int):\n",
    "        count=count+1\n",
    "print(\"There were\",count,\"integer values in list...\") \n",
    "        "
   ]
  },
  {
   "cell_type": "code",
   "execution_count": 7,
   "metadata": {},
   "outputs": [
    {
     "name": "stdout",
     "output_type": "stream",
     "text": [
      "{'name': 'audi', 'model': 2019, 'type': 'sports', 'color': 'Mate black'}\n"
     ]
    }
   ],
   "source": [
    "car={\n",
    "    \"name\" : \"audi\",\n",
    "    \"model\" : 2019,\n",
    "    \"type\" : \"sports\"\n",
    "}\n",
    "car[\"color\"]=\"Mate black\"\n",
    "print(car)"
   ]
  },
  {
   "cell_type": "code",
   "execution_count": 8,
   "metadata": {},
   "outputs": [
    {
     "name": "stdout",
     "output_type": "stream",
     "text": [
      "14\n"
     ]
    }
   ],
   "source": [
    "val={\n",
    "    'a':2,\n",
    "    'b':4,\n",
    "    'c':'6',\n",
    "    'd':8\n",
    "}\n",
    "add=0\n",
    "for x in val.values():\n",
    "    if isinstance(x,int):\n",
    "        add=add+x\n",
    "print(add)\n",
    "    \n"
   ]
  },
  {
   "cell_type": "code",
   "execution_count": 35,
   "metadata": {},
   "outputs": [
    {
     "name": "stdout",
     "output_type": "stream",
     "text": [
      "orignal list is [1, 2, 7, 9, 'abc', 4, 2, 'abc', 1, 4]\n",
      "repeated values are [1, 2, 'abc', 4]\n"
     ]
    }
   ],
   "source": [
    "x = [1,2,7,9,\"abc\",4,2,\"abc\",1,4]\n",
    "size = len(x) \n",
    "dup = [] \n",
    "for i in range(size): \n",
    "    k = i + 1\n",
    "    for j in range(k, size): \n",
    "        if x[i] == x[j] and x[i] not in dup: \n",
    "            dup.append(x[i])\n",
    "print(\"orignal list is\",x)\n",
    "print(\"repeated values are\",dup)"
   ]
  },
  {
   "cell_type": "code",
   "execution_count": 41,
   "metadata": {},
   "outputs": [
    {
     "name": "stdout",
     "output_type": "stream",
     "text": [
      "Enter key to check : d\n",
      "Key already exist\n"
     ]
    }
   ],
   "source": [
    "val={\n",
    "    'a':2,\n",
    "    'b':4,\n",
    "    'c':'a',\n",
    "    'd':8\n",
    "}\n",
    "a = input(\"Enter key to check : \")\n",
    "\n",
    "if a in val:\n",
    "    print(\"Key already exist\")\n",
    "else:\n",
    "    print(\"Not found\")\n",
    "    \n",
    "          "
   ]
  },
  {
   "cell_type": "code",
   "execution_count": null,
   "metadata": {},
   "outputs": [],
   "source": []
  }
 ],
 "metadata": {
  "kernelspec": {
   "display_name": "Python 3",
   "language": "python",
   "name": "python3"
  },
  "language_info": {
   "codemirror_mode": {
    "name": "ipython",
    "version": 3
   },
   "file_extension": ".py",
   "mimetype": "text/x-python",
   "name": "python",
   "nbconvert_exporter": "python",
   "pygments_lexer": "ipython3",
   "version": "3.7.4"
  }
 },
 "nbformat": 4,
 "nbformat_minor": 2
}
